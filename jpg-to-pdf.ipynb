{
 "cells": [
  {
   "cell_type": "code",
   "execution_count": null,
   "id": "1b970e09",
   "metadata": {},
   "outputs": [],
   "source": [
    "import os\n",
    "from pdf2image import convert_from_path\n",
    "\n",
    "def pdf_to_jpg(pdf_path, output_folder):\n",
    "    # Create the output folder if it doesn't exist\n",
    "    os.makedirs(output_folder, exist_ok=True)\n",
    "\n",
    "    # Convert PDF pages to images\n",
    "    images = convert_from_path(pdf_path, poppler_path=\"path/to/poppler/bin\")\n",
    "\n",
    "    print(\"Converting PDF to JPG...\")\n",
    "\n",
    "    # Save images as JPG files\n",
    "    for i, image in enumerate(images):\n",
    "        image.save(os.path.join(output_folder, f\"page_{i+1}.jpg\"), \"JPEG\")\n",
    "\n",
    "    print(\"Conversion complete!\")\n",
    "\n",
    "# Specify the path to your PDF and the output folder\n",
    "pdf_path = \"path/to/your/pdf/file.pdf\"\n",
    "output_folder = \"path/to/your/output/folder.pdf\"\n",
    "# Convert the PDF to JPG\n",
    "pdf_to_jpg(pdf_path, output_folder)\n"
   ]
  }
 ],
 "metadata": {
  "kernelspec": {
   "display_name": "Python 3 (ipykernel)",
   "language": "python",
   "name": "python3"
  },
  "language_info": {
   "codemirror_mode": {
    "name": "ipython",
    "version": 3
   },
   "file_extension": ".py",
   "mimetype": "text/x-python",
   "name": "python",
   "nbconvert_exporter": "python",
   "pygments_lexer": "ipython3",
   "version": "3.11.4"
  }
 },
 "nbformat": 4,
 "nbformat_minor": 5
}
